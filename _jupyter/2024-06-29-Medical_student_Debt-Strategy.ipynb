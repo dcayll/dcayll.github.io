{
 "cells": [
  {
   "cell_type": "markdown",
   "metadata": {},
   "source": [
    "# Medical Student Debt Repayment Strategy\n",
    "\n",
    "Medical school is expensive, but the income will more than make up for the initial investment into the educational fees. However, paying off the loan will take coordination and weighing of priorities, especially since graduating residency comes at a time when many people are starting families and thinking of buying homes etc. This analysis will look into different potential strategies for paying off large amounts of medical school debt while saving for retirement, saving for a down payment for a home, and preparing for having children. "
   ]
  },
  {
   "cell_type": "code",
   "execution_count": 11,
   "metadata": {},
   "outputs": [
    {
     "ename": "IndexError",
     "evalue": "list index out of range",
     "output_type": "error",
     "traceback": [
      "\u001b[1;31m---------------------------------------------------------------------------\u001b[0m",
      "\u001b[1;31mIndexError\u001b[0m                                Traceback (most recent call last)",
      "Cell \u001b[1;32mIn[11], line 16\u001b[0m\n\u001b[0;32m     14\u001b[0m interest \u001b[38;5;241m=\u001b[39m []\u001b[38;5;241m*\u001b[39m\u001b[38;5;241m121\u001b[39m\n\u001b[0;32m     15\u001b[0m \u001b[38;5;28;01mfor\u001b[39;00m x \u001b[38;5;129;01min\u001b[39;00m \u001b[38;5;28mrange\u001b[39m(\u001b[38;5;28mlen\u001b[39m(month)):\n\u001b[1;32m---> 16\u001b[0m     interest[x] \u001b[38;5;241m=\u001b[39m (MD_debt \u001b[38;5;241m+\u001b[39m \u001b[43minterest\u001b[49m\u001b[43m[\u001b[49m\u001b[43mx\u001b[49m\u001b[43m]\u001b[49m) \u001b[38;5;241m*\u001b[39m MD_debt_int_ICR\u001b[38;5;241m/\u001b[39m\u001b[38;5;241m12\u001b[39m\n\u001b[0;32m     18\u001b[0m \u001b[38;5;28mprint\u001b[39m(\u001b[38;5;124m\"\u001b[39m\u001b[38;5;124mTotal debt: $\u001b[39m\u001b[38;5;132;01m%0.2f\u001b[39;00m\u001b[38;5;124m\"\u001b[39m \u001b[38;5;241m%\u001b[39m (MD_debt))\n",
      "\u001b[1;31mIndexError\u001b[0m: list index out of range"
     ]
    }
   ],
   "source": [
    "import matplotlib.pyplot as plt\n",
    "import pandas as pd\n",
    "import numpy as np\n",
    "import math\n",
    "\n",
    "MD_debt = 250000 # medical school debt in dollars\n",
    "MD_debt_int_ICR = 0.057 # interest rate on income-driven repayment plan\n",
    "Income_pgy = 4000 # monthly take-home income (after tax) as resident\n",
    "Income_attending = 10000 # monthly take-home income (after tax) as attending physician\n",
    "Monthly_payment = 3000 # monthly payment for student debt\n",
    "\n",
    "\n",
    "month = np.arange(0,120, 1)\n",
    "interest = []*121\n",
    "\n",
    "np.pmt(MD_debt_int_ICR, )\n",
    "np.nper()\n",
    "\n",
    "# for x in range(len(month)):\n",
    "#     interest[x] = (MD_debt + interest[x]) * MD_debt_int_ICR/12\n",
    "\n",
    "print(\"Total debt: $%0.2f\" % (MD_debt))\n"
   ]
  },
  {
   "cell_type": "markdown",
   "metadata": {},
   "source": []
  }
 ],
 "metadata": {
  "kernelspec": {
   "display_name": "Python 3",
   "language": "python",
   "name": "python3"
  },
  "language_info": {
   "codemirror_mode": {
    "name": "ipython",
    "version": 3
   },
   "file_extension": ".py",
   "mimetype": "text/x-python",
   "name": "python",
   "nbconvert_exporter": "python",
   "pygments_lexer": "ipython3",
   "version": "3.8.10"
  }
 },
 "nbformat": 4,
 "nbformat_minor": 2
}
