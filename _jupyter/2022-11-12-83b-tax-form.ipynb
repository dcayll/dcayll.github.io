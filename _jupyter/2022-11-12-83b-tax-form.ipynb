{
 "cells": [
  {
   "cell_type": "markdown",
   "metadata": {},
   "source": [
    "# 83(b) tax form. Why you should do it on time. \n",
    "\n",
    "The 83(b) form tax form should be filled out within 30 days of receiving a stock grant consisting of restricted stock units which will vest over time. The form allows you to keep the cost basis of your grant the same as when you were granted the stock. The most tax efficient way to vest shares of stock. \n",
    "\n",
    "It is not necessary that one fill out the tax form, it is only of benefit to the grantee. Refer to the following example:\n",
    "\n",
    "5,000 shares of Example LLC Stock is granted to an individual on Jan 1st. 2020 at a price of \\\\$0.001 per share on a 4 year vesting schedule. This means the total purchase price is \\\\$5.00, which is either paid or deducted from employee's pay. The vesting schedule releases $frac{1}{4}^{th}$ of the stock after the first year, and then $frac{1}{48}^{th}$ of the stock vests every month thereafter until the full amount is reached in 4 years. "
   ]
  },
  {
   "cell_type": "code",
   "execution_count": 49,
   "metadata": {},
   "outputs": [
    {
     "name": "stdout",
     "output_type": "stream",
     "text": [
      "Total purchase price: $ 5.00\n"
     ]
    }
   ],
   "source": [
    "import matplotlib.pyplot as plt\n",
    "import pandas as pd\n",
    "import numpy as np\n",
    "import math\n",
    "\n",
    "s_grant = 0.001 # stock price on date of grant\n",
    "n = 5000 # number of granted shares\n",
    "total_granted = s_grant * n # total price of stock at grant date\n",
    "\n",
    "print(\"Total purchase price: $ %0.2f\" % (total_granted))"
   ]
  },
  {
   "cell_type": "markdown",
   "metadata": {},
   "source": [
    "## 83(b) form on time\n",
    "________________________________\n",
    "In the scenario that you submitted the 83(b) form on time, the total purchase price is the cost basis of your stock purchase. This means that you will not have to pay taxes over the years while your stock vests, and your only taxable income comes when you sell the stock. \n",
    "\n",
    "For example, you wait until Jan 1st. 2024 when your stock is fully vested. After some fundraising and increase in company valuation, the price of the stock is now \\\\$1,000, which is a 1,000,000x gain. Not bad!"
   ]
  },
  {
   "cell_type": "code",
   "execution_count": 53,
   "metadata": {},
   "outputs": [
    {
     "name": "stdout",
     "output_type": "stream",
     "text": [
      "\n",
      "Total amount of stock sale: $ 5000000.00 \n",
      "\n"
     ]
    }
   ],
   "source": [
    "s_sale = 1000 # price at sale\n",
    "total_sold = s_sale * n # total value of stock when sold\n",
    "\n",
    "print(\"\\nTotal amount of stock sale: $ %0.2f \\n\" % total_sold)\n",
    "\n",
    "#look into how to add commas to printing format"
   ]
  },
  {
   "cell_type": "markdown",
   "metadata": {},
   "source": [
    "The 5,000 shares of stock are now worth \\\\$5M total. When you sell your stock on Jan 1st, 2024, your cost basis is still \\\\$0.001, so you will pay the capital gains tax on the difference.** \n",
    "\n",
    "\\*\\*assuming long term capital gains for the first 3 years and short term gains for the last year\n",
    "\n",
    "\\*\\*and assuming the valuation of the company doesnt change in the 4 years between grant date and sell date"
   ]
  },
  {
   "cell_type": "code",
   "execution_count": 51,
   "metadata": {},
   "outputs": [
    {
     "ename": "TypeError",
     "evalue": "not enough arguments for format string",
     "output_type": "error",
     "traceback": [
      "\u001b[1;31m---------------------------------------------------------------------------\u001b[0m",
      "\u001b[1;31mTypeError\u001b[0m                                 Traceback (most recent call last)",
      "\u001b[1;32m<ipython-input-51-03c6ffa96ff0>\u001b[0m in \u001b[0;36m<module>\u001b[1;34m\u001b[0m\n\u001b[0;32m     10\u001b[0m \u001b[0mtax_rate\u001b[0m \u001b[1;33m=\u001b[0m \u001b[0mtaxes\u001b[0m\u001b[1;33m/\u001b[0m\u001b[0mgains\u001b[0m\u001b[1;33m\u001b[0m\u001b[1;33m\u001b[0m\u001b[0m\n\u001b[0;32m     11\u001b[0m \u001b[1;33m\u001b[0m\u001b[0m\n\u001b[1;32m---> 12\u001b[1;33m \u001b[0mprint\u001b[0m\u001b[1;33m(\u001b[0m\u001b[1;34m\"Tax burden of $ %0.2f on a capital gain of $ %0.2f for a %0.2f % tax rate\"\u001b[0m \u001b[1;33m%\u001b[0m \u001b[1;33m(\u001b[0m\u001b[0mtaxes\u001b[0m\u001b[1;33m,\u001b[0m \u001b[0mgains\u001b[0m\u001b[1;33m,\u001b[0m \u001b[0mtax_rate\u001b[0m\u001b[1;33m)\u001b[0m\u001b[1;33m)\u001b[0m\u001b[1;33m\u001b[0m\u001b[1;33m\u001b[0m\u001b[0m\n\u001b[0m\u001b[0;32m     13\u001b[0m \u001b[1;33m\u001b[0m\u001b[0m\n\u001b[0;32m     14\u001b[0m \u001b[1;31m# double check this print\u001b[0m\u001b[1;33m\u001b[0m\u001b[1;33m\u001b[0m\u001b[1;33m\u001b[0m\u001b[0m\n",
      "\u001b[1;31mTypeError\u001b[0m: not enough arguments for format string"
     ]
    }
   ],
   "source": [
    "cg_short = 0.4 # Short term capital gains rate\n",
    "cg_long = 0.2 # long term capital gains rate\n",
    "\n",
    "gains = total_sold - total_granted # total capital gains on increased company valuation\n",
    "\n",
    "gains_short = gains * 0.25 # total gains subject to short term gains tax\n",
    "gains_long = gains * 0.25 # total gains subject to long term gains tax\n",
    "\n",
    "taxes = gains_short*cg_short + gains_long*cg_long\n",
    "tax_rate = taxes/gains\n",
    "\n",
    "print(\"\\nTax burden of $ %0.2f on a capital gain of $ %0.2f for a %0.2f % tax rate\\n\" % (taxes, gains, tax_rate))\n",
    "\n",
    "# double check this print "
   ]
  },
  {
   "cell_type": "markdown",
   "metadata": {},
   "source": [
    "## 83(b) form not on time \n",
    "________________________________\n",
    "\n",
    "In this scenario, the individual doesn't submit the 83(b) form, which means the stock will vest accoridng to the schedule and the value of the stock will count as income yearly, and will be taxed every year as short term capital gains. Depending on different assumptions of company value over this time, the tax burden will differ. \n",
    "\n",
    "get into next:\n",
    "- chosing grant price, then sale price, and then a linarly variable price over the 4 years (potentially closest to reality). then also choose parabolic valuation increase as \"best case\" scenario\n",
    "- calculate with 1/48th granting schedule, not just every year. \n"
   ]
  },
  {
   "cell_type": "code",
   "execution_count": null,
   "metadata": {},
   "outputs": [],
   "source": []
  }
 ],
 "metadata": {
  "kernelspec": {
   "display_name": "Python 3",
   "language": "python",
   "name": "python3"
  },
  "language_info": {
   "codemirror_mode": {
    "name": "ipython",
    "version": 3
   },
   "file_extension": ".py",
   "mimetype": "text/x-python",
   "name": "python",
   "nbconvert_exporter": "python",
   "pygments_lexer": "ipython3",
   "version": "3.7.4"
  }
 },
 "nbformat": 4,
 "nbformat_minor": 4
}
