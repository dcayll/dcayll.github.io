{
 "cells": [
  {
   "cell_type": "markdown",
   "metadata": {},
   "source": [
    "# 83(b) tax form. Why you should do it on time. \n",
    "\n",
    "The 83(b) form tax form should be filled out within 30 days of receiving a stock grant consisting of restricted stock units which will vest over time. The form allows you to keep the cost basis of your grant the same as when you were granted the stock at the end of the vesting period. The most tax efficient way to vest shares of stock. \n",
    "\n",
    "It is not necessary that one fill out the tax form, it is only of benefit to the grantee. Refer to the following example:\n",
    "\n",
    "---\n",
    "5,000 shares of Example LLC Stock is granted to an individual on Jan 1st. 2020 at a price of \\\\$0.001 per share on a 4 year vesting schedule. This means the total purchase price is \\\\$5.00, which is either paid or deducted from employee's pay. The vesting schedule releases 1/4th of the stock after the first year, and then 1/48th of the stock vests every month thereafter until the full amount is reached in 4 years. "
   ]
  },
  {
   "cell_type": "code",
   "execution_count": 2,
   "metadata": {},
   "outputs": [
    {
     "name": "stdout",
     "output_type": "stream",
     "text": [
      "Total purchase price: $5.00\n"
     ]
    }
   ],
   "source": [
    "import matplotlib.pyplot as plt\n",
    "import pandas as pd\n",
    "import numpy as np\n",
    "import math\n",
    "\n",
    "s_grant = 0.001 # stock price on date of grant\n",
    "n = 5000 # number of granted shares\n",
    "total_granted = s_grant * n # total price of stock at grant date\n",
    "\n",
    "print(\"Total purchase price: $%0.2f\" % (total_granted))"
   ]
  },
  {
   "cell_type": "markdown",
   "metadata": {},
   "source": [
    "## 83(b) form on time\n",
    "\n",
    "In the scenario that you submitted the 83(b) form on time, the total purchase price is the cost basis of your stock purchase, and you won't have any capital gains while the stock vests. This means that you will not have to pay taxes over the years while your stock vests, and your only taxable income comes when you sell the stock and realize gains or losses.\n",
    "\n",
    "For example, you wait until Jan 1st. 2024 when your stock is fully vested. After some fundraising and increase in company valuation, the price of the stock is now \\\\$1,000 per share, which is a 1,000,000x gain. Not bad!"
   ]
  },
  {
   "cell_type": "code",
   "execution_count": 7,
   "metadata": {},
   "outputs": [
    {
     "name": "stdout",
     "output_type": "stream",
     "text": [
      "Total amount of stock sale: $5,000,000\n"
     ]
    }
   ],
   "source": [
    "s_sale = 1000 # price at sale\n",
    "total_sold = s_sale * n # total value of stock when sold\n",
    "\n",
    "print(\"Total amount of stock sale: ${:,}\".format(total_sold))"
   ]
  },
  {
   "cell_type": "markdown",
   "metadata": {},
   "source": [
    "The 5,000 shares of stock are now worth \\\\$5M total. When you sell your stock on Jan 1st, 2024, your cost basis is still \\\\$0.001 since you haven't been forced to pay for the stock as it vests, so you will pay the capital gains tax on the final sale amount. The following assumes long term capital gains for the first 3 years and short term gains for the last year as well as no change in valuation over the 4 years of vesting. \n"
   ]
  },
  {
   "cell_type": "code",
   "execution_count": 8,
   "metadata": {},
   "outputs": [
    {
     "name": "stdout",
     "output_type": "stream",
     "text": [
      "Tax burden of $1,249,998.75 on a capital gain of $4,999,995.0 for a 25.00 % tax rate\n"
     ]
    }
   ],
   "source": [
    "cg_short = 0.4 # Short term capital gains rate\n",
    "cg_long = 0.2 # long term capital gains rate\n",
    "\n",
    "gains = total_sold - total_granted # total capital gains on increased company valuation\n",
    "\n",
    "gains_short = gains * 0.25 # total gains subject to short term gains tax\n",
    "gains_long = gains * 0.75 # total gains subject to long term gains tax\n",
    "\n",
    "taxes = gains_short*cg_short + gains_long*cg_long # total taxes levied\n",
    "tax_rate = taxes/gains*100 # effective tax rate based on 1 year short term gains and 3 years long term gains. \n",
    "\n",
    "print(\"Tax burden of ${:,} on a capital gain of ${:,} for a {:0.2f} % tax rate\".format(taxes, gains, tax_rate))"
   ]
  },
  {
   "cell_type": "markdown",
   "metadata": {},
   "source": [
    "## 83(b) form not on time \n",
    "\n",
    "In this scenario, the individual doesn't submit the 83(b) form, which means the stock will vest accoridng to the schedule and the value of the stock will count as income yearly, and will be taxed every year as short term capital gains. A number of assumptions are required for this calculation: \n",
    "- Company value is not changing over the course of vesting\n",
    "- Marginal income tax rate is set at 24% (for income between $95,375-$182,100 for a single filer in 2023: [source](https://taxfoundation.org/publications/federal-tax-rates-and-tax-brackets/))\n",
    "- \n"
   ]
  },
  {
   "cell_type": "code",
   "execution_count": 30,
   "metadata": {},
   "outputs": [
    {
     "name": "stdout",
     "output_type": "stream",
     "text": [
      "Tax burden of $1,200,000.0 on a capital gain of $4,999,995.0 for a 24.00 % tax rate\n"
     ]
    }
   ],
   "source": [
    "marginal_income_taxRate = 0.24\n",
    "\n",
    "ones = np.ones(36)*1/48\n",
    "vesting_schedule_full = np.concatenate(([0.25], ones))\n",
    "vesting_schedule_simplified = np.ones(4)*0.25 # % of total stock grant vested per year\n",
    "yearly_vest = vesting_schedule_simplified * n # shares of stock granted per year\n",
    "yearly_vest_income = yearly_vest * s_sale # value of stock granted per year assuming stock price s_sale\n",
    "yearly_vest_income_tax = yearly_vest_income * marginal_income_taxRate # income tax paid yearly on vested stock\n",
    "\n",
    "taxes = sum(yearly_vest_income_tax)\n",
    "tax_rate = taxes/gains*100\n",
    "\n",
    "print(\"Tax burden of ${:,} on a capital gain of ${:,} for a {:0.2f} % tax rate\".format(taxes, gains, tax_rate))"
   ]
  },
  {
   "cell_type": "markdown",
   "metadata": {},
   "source": [
    "Allowing the stock to vest in this way and getting taxed yearly is not inherently better or worse for all individuals. The most tax advantaged way to realize these gains depends on your marginal income tax bracket as well as your cash on hand. If your income tax bracket is lower than the long term gains tax (20%), then it may make sense to take the stock grants as income yearly. However, this means that you must have cash on hand to pay the taxes on the stock as it is granted. This would mean that you have to sell a portion of the stock to pay the taxes on it. \n",
    "\n",
    "Additionally, the real world doesn't behave like the assumptions we made in the previous analysis. Stock prices change as valuations change, and this will change the tax optimal way to realize these gains. Below we will investigate the effects of an increasing stock price on the tax burden with and without the 83(b) form. \n"
   ]
  },
  {
   "cell_type": "code",
   "execution_count": null,
   "metadata": {},
   "outputs": [],
   "source": []
  },
  {
   "cell_type": "markdown",
   "metadata": {},
   "source": [
    "get into next:\n",
    "- chosing grant price, then sale price, and then a linarly variable price over the 4 years (potentially closest to reality). then also choose parabolic valuation increase as \"best case\" scenario\n",
    "- calculate with 1/48th granting schedule, not just every year. \n"
   ]
  }
 ],
 "metadata": {
  "kernelspec": {
   "display_name": "Python 3",
   "language": "python",
   "name": "python3"
  },
  "language_info": {
   "codemirror_mode": {
    "name": "ipython",
    "version": 3
   },
   "file_extension": ".py",
   "mimetype": "text/x-python",
   "name": "python",
   "nbconvert_exporter": "python",
   "pygments_lexer": "ipython3",
   "version": "3.7.4"
  }
 },
 "nbformat": 4,
 "nbformat_minor": 4
}
